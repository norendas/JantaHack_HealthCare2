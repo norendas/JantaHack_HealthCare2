{
 "cells": [
  {
   "cell_type": "code",
   "execution_count": 1,
   "metadata": {},
   "outputs": [
    {
     "name": "stdout",
     "output_type": "stream",
     "text": [
      "\u001b[33mWARNING: Retrying (Retry(total=4, connect=None, read=None, redirect=None, status=None)) after connection broken by 'ReadTimeoutError(\"HTTPSConnectionPool(host='pypi.org', port=443): Read timed out. (read timeout=15)\")': /simple/catboost/\u001b[0m\n",
      "Collecting catboost\n",
      "\u001b[33m  WARNING: Retrying (Retry(total=4, connect=None, read=None, redirect=None, status=None)) after connection broken by 'NewConnectionError('<pip._vendor.urllib3.connection.HTTPSConnection object at 0x7fee908ad0d0>: Failed to establish a new connection: [Errno -3] Temporary failure in name resolution')': /packages/e2/5e/e6bea015d4686fcb4cfd377fdd625c2569357fbb0ecd891eeb1c60ef9abf/catboost-0.24.1-cp37-none-manylinux1_x86_64.whl\u001b[0m\n",
      "\u001b[33m  WARNING: Retrying (Retry(total=3, connect=None, read=None, redirect=None, status=None)) after connection broken by 'NewConnectionError('<pip._vendor.urllib3.connection.HTTPSConnection object at 0x7fee908ad990>: Failed to establish a new connection: [Errno -3] Temporary failure in name resolution')': /packages/e2/5e/e6bea015d4686fcb4cfd377fdd625c2569357fbb0ecd891eeb1c60ef9abf/catboost-0.24.1-cp37-none-manylinux1_x86_64.whl\u001b[0m\n",
      "  Downloading catboost-0.24.1-cp37-none-manylinux1_x86_64.whl (66.0 MB)\n",
      "\u001b[K     |████████████████████████████████| 66.0 MB 49 kB/s  eta 0:00:01    |█▊                              | 3.6 MB 163 kB/s eta 0:06:22     |█▉                              | 3.9 MB 198 kB/s eta 0:05:14     |███▋                            | 7.4 MB 130 kB/s eta 0:07:29     |███▊                            | 7.6 MB 264 kB/s eta 0:03:41     |███████▎                        | 15.1 MB 554 kB/s eta 0:01:32     |███████████▊                    | 24.1 MB 225 kB/s eta 0:03:07     |████████████                    | 24.6 MB 97 kB/s eta 0:07:05     |█████████████▊                  | 28.2 MB 310 kB/s eta 0:02:02     |█████████████████████▍          | 44.3 MB 283 kB/s eta 0:01:17     |█████████████████████▋          | 44.6 MB 284 kB/s eta 0:01:16     |████████████████████████▉       | 51.3 MB 365 kB/s eta 0:00:41     |█████████████████████████▍      | 52.4 MB 411 kB/s eta 0:00:34     |██████████████████████████▍     | 54.5 MB 300 kB/s eta 0:00:39     |██████████████████████████▉     | 55.4 MB 330 kB/s eta 0:00:33     |███████████████████████████▉    | 57.4 MB 176 kB/s eta 0:00:50     |████████████████████████████▌   | 58.8 MB 176 kB/s eta 0:00:42     |████████████████████████████████| 66.0 MB 361 kB/s eta 0:00:01\n",
      "\u001b[?25hRequirement already satisfied, skipping upgrade: numpy>=1.16.0 in /home/noren/anaconda3/envs/my_env/lib/python3.7/site-packages (from catboost) (1.19.1)\n",
      "Requirement already satisfied, skipping upgrade: plotly in /home/noren/anaconda3/envs/my_env/lib/python3.7/site-packages (from catboost) (4.9.0)\n",
      "Requirement already satisfied, skipping upgrade: six in /home/noren/anaconda3/envs/my_env/lib/python3.7/site-packages (from catboost) (1.15.0)\n",
      "Requirement already satisfied, skipping upgrade: graphviz in /home/noren/anaconda3/envs/my_env/lib/python3.7/site-packages (from catboost) (0.14.1)\n",
      "Requirement already satisfied, skipping upgrade: pandas>=0.24.0 in /home/noren/anaconda3/envs/my_env/lib/python3.7/site-packages (from catboost) (1.0.5)\n",
      "Requirement already satisfied, skipping upgrade: scipy in /home/noren/anaconda3/envs/my_env/lib/python3.7/site-packages (from catboost) (1.5.2)\n",
      "Requirement already satisfied, skipping upgrade: matplotlib in /home/noren/anaconda3/envs/my_env/lib/python3.7/site-packages (from catboost) (3.3.0)\n",
      "Requirement already satisfied, skipping upgrade: retrying>=1.3.3 in /home/noren/anaconda3/envs/my_env/lib/python3.7/site-packages (from plotly->catboost) (1.3.3)\n",
      "Requirement already satisfied, skipping upgrade: python-dateutil>=2.6.1 in /home/noren/anaconda3/envs/my_env/lib/python3.7/site-packages (from pandas>=0.24.0->catboost) (2.8.1)\n",
      "Requirement already satisfied, skipping upgrade: pytz>=2017.2 in /home/noren/anaconda3/envs/my_env/lib/python3.7/site-packages (from pandas>=0.24.0->catboost) (2020.1)\n",
      "Requirement already satisfied, skipping upgrade: kiwisolver>=1.0.1 in /home/noren/anaconda3/envs/my_env/lib/python3.7/site-packages (from matplotlib->catboost) (1.2.0)\n",
      "Requirement already satisfied, skipping upgrade: pyparsing!=2.0.4,!=2.1.2,!=2.1.6,>=2.0.3 in /home/noren/anaconda3/envs/my_env/lib/python3.7/site-packages (from matplotlib->catboost) (2.4.7)\n",
      "Requirement already satisfied, skipping upgrade: cycler>=0.10 in /home/noren/anaconda3/envs/my_env/lib/python3.7/site-packages (from matplotlib->catboost) (0.10.0)\n",
      "Requirement already satisfied, skipping upgrade: pillow>=6.2.0 in /home/noren/anaconda3/envs/my_env/lib/python3.7/site-packages (from matplotlib->catboost) (7.2.0)\n",
      "Installing collected packages: catboost\n",
      "Successfully installed catboost-0.24.1\n",
      "\u001b[33mWARNING: Retrying (Retry(total=4, connect=None, read=None, redirect=None, status=None)) after connection broken by 'ReadTimeoutError(\"HTTPSConnectionPool(host='pypi.org', port=443): Read timed out. (read timeout=15)\")': /simple/ipywidgets/\u001b[0m\n",
      "\u001b[33mWARNING: Retrying (Retry(total=3, connect=None, read=None, redirect=None, status=None)) after connection broken by 'ReadTimeoutError(\"HTTPSConnectionPool(host='pypi.org', port=443): Read timed out. (read timeout=15)\")': /simple/ipywidgets/\u001b[0m\n",
      "\u001b[33mWARNING: Retrying (Retry(total=2, connect=None, read=None, redirect=None, status=None)) after connection broken by 'ReadTimeoutError(\"HTTPSConnectionPool(host='pypi.org', port=443): Read timed out. (read timeout=15)\")': /simple/ipywidgets/\u001b[0m\n",
      "\u001b[33mWARNING: Retrying (Retry(total=1, connect=None, read=None, redirect=None, status=None)) after connection broken by 'ProtocolError('Connection aborted.', ConnectionResetError(104, 'Connection reset by peer'))': /simple/ipywidgets/\u001b[0m\n",
      "\u001b[33mWARNING: Retrying (Retry(total=0, connect=None, read=None, redirect=None, status=None)) after connection broken by 'ReadTimeoutError(\"HTTPSConnectionPool(host='pypi.org', port=443): Read timed out. (read timeout=15)\")': /simple/ipywidgets/\u001b[0m\n",
      "Requirement already up-to-date: ipywidgets in /home/noren/anaconda3/envs/my_env/lib/python3.7/site-packages (7.5.1)\n",
      "Requirement already satisfied, skipping upgrade: ipykernel>=4.5.1 in /home/noren/anaconda3/envs/my_env/lib/python3.7/site-packages (from ipywidgets) (5.3.4)\n",
      "Requirement already satisfied, skipping upgrade: nbformat>=4.2.0 in /home/noren/anaconda3/envs/my_env/lib/python3.7/site-packages (from ipywidgets) (5.0.7)\n",
      "Requirement already satisfied, skipping upgrade: widgetsnbextension~=3.5.0 in /home/noren/anaconda3/envs/my_env/lib/python3.7/site-packages (from ipywidgets) (3.5.1)\n",
      "Requirement already satisfied, skipping upgrade: traitlets>=4.3.1 in /home/noren/anaconda3/envs/my_env/lib/python3.7/site-packages (from ipywidgets) (4.3.3)\n",
      "Requirement already satisfied, skipping upgrade: ipython>=4.0.0; python_version >= \"3.3\" in /home/noren/anaconda3/envs/my_env/lib/python3.7/site-packages (from ipywidgets) (7.17.0)\n",
      "Requirement already satisfied, skipping upgrade: tornado>=4.2 in /home/noren/anaconda3/envs/my_env/lib/python3.7/site-packages (from ipykernel>=4.5.1->ipywidgets) (6.0.4)\n",
      "Requirement already satisfied, skipping upgrade: jupyter-client in /home/noren/anaconda3/envs/my_env/lib/python3.7/site-packages (from ipykernel>=4.5.1->ipywidgets) (6.1.6)\n",
      "Requirement already satisfied, skipping upgrade: jupyter-core in /home/noren/anaconda3/envs/my_env/lib/python3.7/site-packages (from nbformat>=4.2.0->ipywidgets) (4.6.3)\n",
      "Requirement already satisfied, skipping upgrade: ipython-genutils in /home/noren/anaconda3/envs/my_env/lib/python3.7/site-packages (from nbformat>=4.2.0->ipywidgets) (0.2.0)\n",
      "Requirement already satisfied, skipping upgrade: jsonschema!=2.5.0,>=2.4 in /home/noren/anaconda3/envs/my_env/lib/python3.7/site-packages (from nbformat>=4.2.0->ipywidgets) (3.2.0)\n",
      "Requirement already satisfied, skipping upgrade: notebook>=4.4.1 in /home/noren/anaconda3/envs/my_env/lib/python3.7/site-packages (from widgetsnbextension~=3.5.0->ipywidgets) (6.0.3)\n",
      "Requirement already satisfied, skipping upgrade: six in /home/noren/anaconda3/envs/my_env/lib/python3.7/site-packages (from traitlets>=4.3.1->ipywidgets) (1.15.0)\n",
      "Requirement already satisfied, skipping upgrade: decorator in /home/noren/anaconda3/envs/my_env/lib/python3.7/site-packages (from traitlets>=4.3.1->ipywidgets) (4.4.2)\n",
      "Requirement already satisfied, skipping upgrade: pexpect; sys_platform != \"win32\" in /home/noren/anaconda3/envs/my_env/lib/python3.7/site-packages (from ipython>=4.0.0; python_version >= \"3.3\"->ipywidgets) (4.8.0)\n",
      "Requirement already satisfied, skipping upgrade: setuptools>=18.5 in /home/noren/anaconda3/envs/my_env/lib/python3.7/site-packages (from ipython>=4.0.0; python_version >= \"3.3\"->ipywidgets) (49.6.0.post20200814)\n"
     ]
    },
    {
     "name": "stdout",
     "output_type": "stream",
     "text": [
      "Requirement already satisfied, skipping upgrade: prompt-toolkit!=3.0.0,!=3.0.1,<3.1.0,>=2.0.0 in /home/noren/anaconda3/envs/my_env/lib/python3.7/site-packages (from ipython>=4.0.0; python_version >= \"3.3\"->ipywidgets) (3.0.5)\n",
      "Requirement already satisfied, skipping upgrade: jedi>=0.10 in /home/noren/anaconda3/envs/my_env/lib/python3.7/site-packages (from ipython>=4.0.0; python_version >= \"3.3\"->ipywidgets) (0.15.2)\n",
      "Requirement already satisfied, skipping upgrade: backcall in /home/noren/anaconda3/envs/my_env/lib/python3.7/site-packages (from ipython>=4.0.0; python_version >= \"3.3\"->ipywidgets) (0.2.0)\n",
      "Requirement already satisfied, skipping upgrade: pygments in /home/noren/anaconda3/envs/my_env/lib/python3.7/site-packages (from ipython>=4.0.0; python_version >= \"3.3\"->ipywidgets) (2.6.1)\n",
      "Requirement already satisfied, skipping upgrade: pickleshare in /home/noren/anaconda3/envs/my_env/lib/python3.7/site-packages (from ipython>=4.0.0; python_version >= \"3.3\"->ipywidgets) (0.7.5)\n",
      "Requirement already satisfied, skipping upgrade: pyzmq>=13 in /home/noren/anaconda3/envs/my_env/lib/python3.7/site-packages (from jupyter-client->ipykernel>=4.5.1->ipywidgets) (19.0.1)\n",
      "Requirement already satisfied, skipping upgrade: python-dateutil>=2.1 in /home/noren/anaconda3/envs/my_env/lib/python3.7/site-packages (from jupyter-client->ipykernel>=4.5.1->ipywidgets) (2.8.1)\n",
      "Requirement already satisfied, skipping upgrade: pyrsistent>=0.14.0 in /home/noren/anaconda3/envs/my_env/lib/python3.7/site-packages (from jsonschema!=2.5.0,>=2.4->nbformat>=4.2.0->ipywidgets) (0.16.0)\n",
      "Requirement already satisfied, skipping upgrade: attrs>=17.4.0 in /home/noren/anaconda3/envs/my_env/lib/python3.7/site-packages (from jsonschema!=2.5.0,>=2.4->nbformat>=4.2.0->ipywidgets) (19.3.0)\n",
      "Requirement already satisfied, skipping upgrade: importlib-metadata; python_version < \"3.8\" in /home/noren/anaconda3/envs/my_env/lib/python3.7/site-packages (from jsonschema!=2.5.0,>=2.4->nbformat>=4.2.0->ipywidgets) (1.7.0)\n",
      "Requirement already satisfied, skipping upgrade: prometheus-client in /home/noren/anaconda3/envs/my_env/lib/python3.7/site-packages (from notebook>=4.4.1->widgetsnbextension~=3.5.0->ipywidgets) (0.8.0)\n",
      "Requirement already satisfied, skipping upgrade: Send2Trash in /home/noren/anaconda3/envs/my_env/lib/python3.7/site-packages (from notebook>=4.4.1->widgetsnbextension~=3.5.0->ipywidgets) (1.5.0)\n",
      "Requirement already satisfied, skipping upgrade: terminado>=0.8.1 in /home/noren/anaconda3/envs/my_env/lib/python3.7/site-packages (from notebook>=4.4.1->widgetsnbextension~=3.5.0->ipywidgets) (0.8.3)\n",
      "Requirement already satisfied, skipping upgrade: jinja2 in /home/noren/anaconda3/envs/my_env/lib/python3.7/site-packages (from notebook>=4.4.1->widgetsnbextension~=3.5.0->ipywidgets) (2.11.2)\n",
      "Requirement already satisfied, skipping upgrade: nbconvert in /home/noren/anaconda3/envs/my_env/lib/python3.7/site-packages (from notebook>=4.4.1->widgetsnbextension~=3.5.0->ipywidgets) (5.6.1)\n",
      "Requirement already satisfied, skipping upgrade: ptyprocess>=0.5 in /home/noren/anaconda3/envs/my_env/lib/python3.7/site-packages (from pexpect; sys_platform != \"win32\"->ipython>=4.0.0; python_version >= \"3.3\"->ipywidgets) (0.6.0)\n",
      "Requirement already satisfied, skipping upgrade: wcwidth in /home/noren/anaconda3/envs/my_env/lib/python3.7/site-packages (from prompt-toolkit!=3.0.0,!=3.0.1,<3.1.0,>=2.0.0->ipython>=4.0.0; python_version >= \"3.3\"->ipywidgets) (0.2.5)\n",
      "Requirement already satisfied, skipping upgrade: parso>=0.5.2 in /home/noren/anaconda3/envs/my_env/lib/python3.7/site-packages (from jedi>=0.10->ipython>=4.0.0; python_version >= \"3.3\"->ipywidgets) (0.5.2)\n",
      "Requirement already satisfied, skipping upgrade: zipp>=0.5 in /home/noren/anaconda3/envs/my_env/lib/python3.7/site-packages (from importlib-metadata; python_version < \"3.8\"->jsonschema!=2.5.0,>=2.4->nbformat>=4.2.0->ipywidgets) (3.1.0)\n",
      "Requirement already satisfied, skipping upgrade: MarkupSafe>=0.23 in /home/noren/anaconda3/envs/my_env/lib/python3.7/site-packages (from jinja2->notebook>=4.4.1->widgetsnbextension~=3.5.0->ipywidgets) (1.1.1)\n",
      "Requirement already satisfied, skipping upgrade: bleach in /home/noren/anaconda3/envs/my_env/lib/python3.7/site-packages (from nbconvert->notebook>=4.4.1->widgetsnbextension~=3.5.0->ipywidgets) (3.1.5)\n",
      "Requirement already satisfied, skipping upgrade: defusedxml in /home/noren/anaconda3/envs/my_env/lib/python3.7/site-packages (from nbconvert->notebook>=4.4.1->widgetsnbextension~=3.5.0->ipywidgets) (0.6.0)\n",
      "Requirement already satisfied, skipping upgrade: testpath in /home/noren/anaconda3/envs/my_env/lib/python3.7/site-packages (from nbconvert->notebook>=4.4.1->widgetsnbextension~=3.5.0->ipywidgets) (0.4.4)\n",
      "Requirement already satisfied, skipping upgrade: mistune<2,>=0.8.1 in /home/noren/anaconda3/envs/my_env/lib/python3.7/site-packages (from nbconvert->notebook>=4.4.1->widgetsnbextension~=3.5.0->ipywidgets) (0.8.4)\n",
      "Requirement already satisfied, skipping upgrade: pandocfilters>=1.4.1 in /home/noren/anaconda3/envs/my_env/lib/python3.7/site-packages (from nbconvert->notebook>=4.4.1->widgetsnbextension~=3.5.0->ipywidgets) (1.4.2)\n",
      "Requirement already satisfied, skipping upgrade: entrypoints>=0.2.2 in /home/noren/anaconda3/envs/my_env/lib/python3.7/site-packages (from nbconvert->notebook>=4.4.1->widgetsnbextension~=3.5.0->ipywidgets) (0.3)\n",
      "Requirement already satisfied, skipping upgrade: packaging in /home/noren/anaconda3/envs/my_env/lib/python3.7/site-packages (from bleach->nbconvert->notebook>=4.4.1->widgetsnbextension~=3.5.0->ipywidgets) (20.4)\n",
      "Requirement already satisfied, skipping upgrade: webencodings in /home/noren/anaconda3/envs/my_env/lib/python3.7/site-packages (from bleach->nbconvert->notebook>=4.4.1->widgetsnbextension~=3.5.0->ipywidgets) (0.5.1)\n",
      "Requirement already satisfied, skipping upgrade: pyparsing>=2.0.2 in /home/noren/anaconda3/envs/my_env/lib/python3.7/site-packages (from packaging->bleach->nbconvert->notebook>=4.4.1->widgetsnbextension~=3.5.0->ipywidgets) (2.4.7)\n",
      "Requirement already satisfied: shap in /home/noren/anaconda3/envs/my_env/lib/python3.7/site-packages (0.36.0)\n",
      "Requirement already satisfied: numpy in /home/noren/anaconda3/envs/my_env/lib/python3.7/site-packages (from shap) (1.19.1)\n",
      "Requirement already satisfied: slicer in /home/noren/anaconda3/envs/my_env/lib/python3.7/site-packages (from shap) (0.0.3)\n",
      "Requirement already satisfied: pandas in /home/noren/anaconda3/envs/my_env/lib/python3.7/site-packages (from shap) (1.0.5)\n",
      "Requirement already satisfied: numba in /home/noren/anaconda3/envs/my_env/lib/python3.7/site-packages (from shap) (0.51.0)\n",
      "Requirement already satisfied: scikit-learn in /home/noren/anaconda3/envs/my_env/lib/python3.7/site-packages (from shap) (0.23.2)\n",
      "Requirement already satisfied: tqdm>4.25.0 in /home/noren/anaconda3/envs/my_env/lib/python3.7/site-packages (from shap) (4.48.0)\n",
      "Requirement already satisfied: scipy in /home/noren/anaconda3/envs/my_env/lib/python3.7/site-packages (from shap) (1.5.2)\n",
      "Requirement already satisfied: python-dateutil>=2.6.1 in /home/noren/anaconda3/envs/my_env/lib/python3.7/site-packages (from pandas->shap) (2.8.1)\n",
      "Requirement already satisfied: pytz>=2017.2 in /home/noren/anaconda3/envs/my_env/lib/python3.7/site-packages (from pandas->shap) (2020.1)\n",
      "Requirement already satisfied: setuptools in /home/noren/anaconda3/envs/my_env/lib/python3.7/site-packages (from numba->shap) (49.6.0.post20200814)\n",
      "Requirement already satisfied: llvmlite<0.35,>=0.34.0.dev0 in /home/noren/anaconda3/envs/my_env/lib/python3.7/site-packages (from numba->shap) (0.34.0)\n",
      "Requirement already satisfied: joblib>=0.11 in /home/noren/anaconda3/envs/my_env/lib/python3.7/site-packages (from scikit-learn->shap) (0.16.0)\n",
      "Requirement already satisfied: threadpoolctl>=2.0.0 in /home/noren/anaconda3/envs/my_env/lib/python3.7/site-packages (from scikit-learn->shap) (2.1.0)\n",
      "Requirement already satisfied: six>=1.5 in /home/noren/anaconda3/envs/my_env/lib/python3.7/site-packages (from python-dateutil>=2.6.1->pandas->shap) (1.15.0)\n",
      "Requirement already satisfied: sklearn in /home/noren/anaconda3/envs/my_env/lib/python3.7/site-packages (0.0)\n",
      "Requirement already satisfied: scikit-learn in /home/noren/anaconda3/envs/my_env/lib/python3.7/site-packages (from sklearn) (0.23.2)\n"
     ]
    },
    {
     "name": "stdout",
     "output_type": "stream",
     "text": [
      "Requirement already satisfied: joblib>=0.11 in /home/noren/anaconda3/envs/my_env/lib/python3.7/site-packages (from scikit-learn->sklearn) (0.16.0)\n",
      "Requirement already satisfied: numpy>=1.13.3 in /home/noren/anaconda3/envs/my_env/lib/python3.7/site-packages (from scikit-learn->sklearn) (1.19.1)\n",
      "Requirement already satisfied: scipy>=0.19.1 in /home/noren/anaconda3/envs/my_env/lib/python3.7/site-packages (from scikit-learn->sklearn) (1.5.2)\n",
      "Requirement already satisfied: threadpoolctl>=2.0.0 in /home/noren/anaconda3/envs/my_env/lib/python3.7/site-packages (from scikit-learn->sklearn) (2.1.0)\n",
      "\u001b[33mWARNING: Retrying (Retry(total=4, connect=None, read=None, redirect=None, status=None)) after connection broken by 'ReadTimeoutError(\"HTTPSConnectionPool(host='pypi.org', port=443): Read timed out. (read timeout=15)\")': /simple/numpy/\u001b[0m\n",
      "\u001b[33mWARNING: Retrying (Retry(total=3, connect=None, read=None, redirect=None, status=None)) after connection broken by 'ProtocolError('Connection aborted.', ConnectionResetError(104, 'Connection reset by peer'))': /simple/numpy/\u001b[0m\n",
      "\u001b[33mWARNING: Retrying (Retry(total=2, connect=None, read=None, redirect=None, status=None)) after connection broken by 'ProtocolError('Connection aborted.', ConnectionResetError(104, 'Connection reset by peer'))': /simple/numpy/\u001b[0m\n",
      "\u001b[33mWARNING: Retrying (Retry(total=1, connect=None, read=None, redirect=None, status=None)) after connection broken by 'ReadTimeoutError(\"HTTPSConnectionPool(host='pypi.org', port=443): Read timed out. (read timeout=15)\")': /simple/numpy/\u001b[0m\n",
      "\u001b[33mWARNING: Retrying (Retry(total=0, connect=None, read=None, redirect=None, status=None)) after connection broken by 'ReadTimeoutError(\"HTTPSConnectionPool(host='pypi.org', port=443): Read timed out. (read timeout=15)\")': /simple/numpy/\u001b[0m\n",
      "Requirement already up-to-date: numpy in /home/noren/anaconda3/envs/my_env/lib/python3.7/site-packages (1.19.1)\n",
      "Enabling notebook extension jupyter-js-widgets/extension...\n",
      "      - Validating: \u001b[32mOK\u001b[0m\n"
     ]
    }
   ],
   "source": [
    "!pip install --user --upgrade catboost\n",
    "!pip install --user --upgrade ipywidgets\n",
    "!pip install shap\n",
    "!pip install sklearn\n",
    "!pip install --upgrade numpy\n",
    "!jupyter nbextension enable --py widgetsnbextension"
   ]
  },
  {
   "cell_type": "code",
   "execution_count": 2,
   "metadata": {},
   "outputs": [
    {
     "name": "stdout",
     "output_type": "stream",
     "text": [
      "0.24\n",
      "Python 3.7.7\r\n"
     ]
    }
   ],
   "source": [
    "import catboost\n",
    "print(catboost.__version__)\n",
    "!python --version"
   ]
  },
  {
   "cell_type": "code",
   "execution_count": 3,
   "metadata": {},
   "outputs": [],
   "source": [
    "import pandas as pd\n",
    "import os\n",
    "import numpy as np\n",
    "np.set_printoptions(precision=4)\n",
    "import catboost\n",
    "from catboost import *\n",
    "from catboost import datasets"
   ]
  },
  {
   "cell_type": "code",
   "execution_count": null,
   "metadata": {},
   "outputs": [],
   "source": [
    "(train_df, test_df) = catboost.datasets.amazon()"
   ]
  },
  {
   "cell_type": "code",
   "execution_count": null,
   "metadata": {},
   "outputs": [],
   "source": []
  }
 ],
 "metadata": {
  "kernelspec": {
   "display_name": "Python 3",
   "language": "python",
   "name": "python3"
  },
  "language_info": {
   "codemirror_mode": {
    "name": "ipython",
    "version": 3
   },
   "file_extension": ".py",
   "mimetype": "text/x-python",
   "name": "python",
   "nbconvert_exporter": "python",
   "pygments_lexer": "ipython3",
   "version": "3.7.7"
  }
 },
 "nbformat": 4,
 "nbformat_minor": 4
}
